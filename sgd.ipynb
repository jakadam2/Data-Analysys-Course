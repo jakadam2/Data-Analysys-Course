{
 "cells": [
  {
   "cell_type": "code",
   "execution_count": 32,
   "metadata": {},
   "outputs": [],
   "source": [
    "import numpy as np\n",
    "from scipy.stats import multivariate_normal\n",
    "import matplotlib.pyplot as plt\n",
    "from math import exp"
   ]
  },
  {
   "cell_type": "code",
   "execution_count": 33,
   "metadata": {},
   "outputs": [],
   "source": [
    "class Hipothesis:\n",
    "    positive = 1\n",
    "    negative = -1"
   ]
  },
  {
   "cell_type": "code",
   "execution_count": 34,
   "metadata": {},
   "outputs": [],
   "source": [
    "def log_loss(x,y,b):\n",
    "    return np.log(1 + (np.exp(-(y * (b@x.T)))))\n",
    "\n",
    "def log_loss_gradient(x,y,b):\n",
    "    pred = 1/(1 + np.exp(b@x.T))\n",
    "    diff = (pred - ((1 + y)/2))\n",
    "    return diff * x\n",
    "\n",
    "def train(X,Y,LR = 10**-4,bias = True,epochs = 25):\n",
    "    losses = []\n",
    "    if bias:\n",
    "        X = np.hstack((X, np.ones((X.shape[0], 1), dtype=X.dtype)))\n",
    "    B = np.zeros(X.shape[1])    \n",
    "    j = 0\n",
    "    prev_loss = 0\n",
    "    while True:\n",
    "        prevB = B\n",
    "        cumm_loss = 0\n",
    "        for i in range(X.shape[0]):\n",
    "            x = X[i,:]\n",
    "            y = Y[i,:]\n",
    "            cumm_loss += log_loss(x,y,B)\n",
    "            B = B - (LR *log_loss_gradient(x,y,B))    \n",
    "            if cumm_loss == np.nan:\n",
    "                print(x,y,B)\n",
    "                break\n",
    "        j += 1\n",
    "        losses.append(cumm_loss)    \n",
    "            \n",
    "        print(f'EPOCH: {j} LOSS: {cumm_loss} WEIGHTS:{B}')\n",
    "        if abs(cumm_loss - prev_loss) < 0.001 or np.linalg.norm((prevB,B)) < 0.001 or j > epochs:\n",
    "            print('TRAINING FINISHED')\n",
    "            print(f'FINAL WEIGHTS: {B}')\n",
    "            return B\n",
    "        prev_loss = cumm_loss\n",
    "        prevB = B   \n",
    "        return losses "
   ]
  },
  {
   "cell_type": "code",
   "execution_count": 35,
   "metadata": {},
   "outputs": [],
   "source": [
    "def unison_shuffled_copies(a, b):\n",
    "    assert len(a) == len(b)\n",
    "    p = np.random.permutation(len(a))\n",
    "    return a[p], b[p]"
   ]
  },
  {
   "cell_type": "code",
   "execution_count": 36,
   "metadata": {},
   "outputs": [],
   "source": [
    "m1 = multivariate_normal([0,0],[[1,0],[0,1]])\n",
    "m2 = multivariate_normal([5,5],[[1,0],[0,1]])\n",
    "X1 = m1.rvs(100)\n",
    "X2 = m2.rvs(100)\n",
    "X = np.vstack((X1,X2))\n",
    "Y1 = np.array([[1] * 100]).T\n",
    "Y2 = np.array([[-1] * 100]).T\n",
    "Y = np.vstack((Y1,Y2))\n",
    "X,Y = unison_shuffled_copies(X,Y)"
   ]
  },
  {
   "cell_type": "code",
   "execution_count": 37,
   "metadata": {},
   "outputs": [
    {
     "name": "stdout",
     "output_type": "stream",
     "text": [
      "EPOCH: 1 LOSS: [132.42304122] WEIGHTS:[-0.02659711 -0.02691947 -0.00032369]\n",
      "EPOCH: 2 LOSS: [120.11938107] WEIGHTS:[-0.05678105 -0.05752432 -0.00135003]\n",
      "EPOCH: 3 LOSS: [108.63957917] WEIGHTS:[-0.09076557 -0.09203458 -0.00312309]\n",
      "EPOCH: 4 LOSS: [98.59430304] WEIGHTS:[-0.12849664 -0.13039655 -0.00563496]\n",
      "EPOCH: 5 LOSS: [90.45518279] WEIGHTS:[-0.16961735 -0.17224632 -0.00881816]\n",
      "EPOCH: 6 LOSS: [84.40081508] WEIGHTS:[-0.21354429 -0.21698716 -0.01255955]\n",
      "EPOCH: 7 LOSS: [80.29594777] WEIGHTS:[-0.25961649 -0.26394134 -0.016729  ]\n",
      "EPOCH: 8 LOSS: [77.80393848] WEIGHTS:[-0.3072302  -0.31248831 -0.02120601]\n",
      "EPOCH: 9 LOSS: [76.53377028] WEIGHTS:[-0.35590744 -0.36213564 -0.02589402]\n",
      "EPOCH: 10 LOSS: [76.13895352] WEIGHTS:[-0.40530406 -0.41252788 -0.0307227 ]\n",
      "EPOCH: 11 LOSS: [76.35397371] WEIGHTS:[-0.45518664 -0.46342346 -0.03564387]\n",
      "EPOCH: 12 LOSS: [76.99178018] WEIGHTS:[-0.50540242 -0.51466391 -0.04062573]\n",
      "EPOCH: 13 LOSS: [77.92674331] WEIGHTS:[-0.55585319 -0.56614715 -0.04564772]\n",
      "EPOCH: 14 LOSS: [79.07650901] WEIGHTS:[-0.60647609 -0.61780775 -0.05069667]\n",
      "EPOCH: 15 LOSS: [80.38751848] WEIGHTS:[-0.65723072 -0.66960355 -0.05576415]\n",
      "EPOCH: 16 LOSS: [81.82477984] WEIGHTS:[-0.70809069 -0.72150701 -0.06084473]\n",
      "EPOCH: 17 LOSS: [83.36507996] WEIGHTS:[-0.75903838 -0.7734997  -0.06593484]\n",
      "EPOCH: 18 LOSS: [84.99263013] WEIGHTS:[-0.81006163 -0.82556892 -0.07103215]\n",
      "EPOCH: 19 LOSS: [86.69632447] WEIGHTS:[-0.86115172 -0.87770553 -0.07613505]\n",
      "EPOCH: 20 LOSS: [88.46803066] WEIGHTS:[-0.91230212 -0.92990271 -0.08124241]\n",
      "EPOCH: 21 LOSS: [90.30152856] WEIGHTS:[-0.96350774 -0.9821551  -0.08635343]\n",
      "EPOCH: 22 LOSS: [92.19185146] WEIGHTS:[-1.0147644  -1.03445834 -0.0914675 ]\n",
      "EPOCH: 23 LOSS: [94.1348761] WEIGHTS:[-1.06606859 -1.08680876 -0.09658416]\n",
      "EPOCH: 24 LOSS: [96.12706597] WEIGHTS:[-1.11741726 -1.13920313 -0.10170304]\n",
      "EPOCH: 25 LOSS: [98.16530916] WEIGHTS:[-1.16880768 -1.19163862 -0.10682383]\n",
      "EPOCH: 26 LOSS: [100.24681458] WEIGHTS:[-1.22023741 -1.24411265 -0.11194628]\n",
      "TRAINING FINISHED\n",
      "FINAL WEIGHTS: [-1.22023741 -1.24411265 -0.11194628]\n"
     ]
    }
   ],
   "source": [
    "B = train(X,Y)"
   ]
  },
  {
   "cell_type": "code",
   "execution_count": null,
   "metadata": {},
   "outputs": [],
   "source": [
    "X = np.hstack((X, np.ones((X.shape[0], 1), dtype=X.dtype)))\n",
    "prex = np.empty(shape = 200)\n",
    "for i in range(X.shape[0]):\n",
    "    x = X[i,:]\n",
    "    prex[i] = 1/(1 + np.exp(-(B@x.T)))"
   ]
  },
  {
   "cell_type": "code",
   "execution_count": 39,
   "metadata": {},
   "outputs": [],
   "source": [
    "def make_ROC(pred,true):\n",
    "    x,y = [],[]\n",
    "    threashold = 0\n",
    "    step = 0.01\n",
    "    while True:\n",
    "        true_negative =0\n",
    "        true_positive=0\n",
    "        false_negative=0\n",
    "        false_positive=0\n",
    "        for i in range(len(pred)):\n",
    "            if pred[i] > threashold:\n",
    "                if true[i] == 1:\n",
    "                    true_positive += 1\n",
    "                else:\n",
    "                    false_positive += 1\n",
    "            else:\n",
    "                if true[i] == -1:\n",
    "                    true_negative += 1\n",
    "                else:\n",
    "                    false_negative += 1\n",
    "        alfa = false_positive/100\n",
    "        beta = false_negative/100\n",
    "        x.append(alfa)\n",
    "        y.append(1 - beta)\n",
    "        threashold += step\n",
    "        if threashold >= 1:\n",
    "            break\n",
    "    plt.plot(x,y)\n",
    "    plt.xlabel('alfa')\n",
    "    plt.ylabel('1 - beta')\n",
    "    plt.title('ROC curve')"
   ]
  },
  {
   "cell_type": "code",
   "execution_count": 40,
   "metadata": {},
   "outputs": [],
   "source": [
    "def give_result(pred,y,threashold):\n",
    "    good = 0\n",
    "    bad = 0\n",
    "    for i in range(len(pred)):\n",
    "        if pred[i] > threashold and y[i] == 1:\n",
    "            good += 1\n",
    "        elif pred[i] < threashold and y[i] == -1:\n",
    "            good += 1\n",
    "        else:\n",
    "            bad += 1\n",
    "    return good,bad"
   ]
  },
  {
   "cell_type": "code",
   "execution_count": 41,
   "metadata": {},
   "outputs": [
    {
     "data": {
      "image/png": "[encoded data removed]",
      "text/plain": [
       "<Figure size 640x480 with 1 Axes>"
      ]
     },
     "metadata": {},
     "output_type": "display_data"
    }
   ],
   "source": [
    "make_ROC(prex,Y)"
   ]
  },
  {
   "cell_type": "code",
   "execution_count": 42,
   "metadata": {},
   "outputs": [
    {
     "data": {
      "text/plain": [
       "(148, 52)"
      ]
     },
     "execution_count": 42,
     "metadata": {},
     "output_type": "execute_result"
    }
   ],
   "source": [
    "give_result(prex,Y,0.5)"
   ]
  },
  {
   "cell_type": "code",
   "execution_count": 43,
   "metadata": {},
   "outputs": [],
   "source": [
    "m1 = multivariate_normal([0,0],[[1,0],[0,1]])\n",
    "m2 = multivariate_normal([1,1],[[1,0],[0,1]])\n",
    "X1 = m1.rvs(100)\n",
    "X2 = m2.rvs(100)\n",
    "X = np.vstack((X1,X2))\n",
    "Y1 = np.array([[1] * 100]).T\n",
    "Y2 = np.array([[-1] * 100]).T\n",
    "Y = np.vstack((Y1,Y2))\n",
    "X,Y = unison_shuffled_copies(X,Y)"
   ]
  },
  {
   "cell_type": "code",
   "execution_count": 44,
   "metadata": {},
   "outputs": [
    {
     "name": "stdout",
     "output_type": "stream",
     "text": [
      "EPOCH: 1 LOSS: [138.35920891] WEIGHTS:[-5.72559776e-03 -4.86205345e-03 -1.12531651e-05]\n",
      "EPOCH: 2 LOSS: [137.7998646] WEIGHTS:[-1.14990381e-02 -9.77062641e-03 -4.52787102e-05]\n",
      "EPOCH: 3 LOSS: [137.24066849] WEIGHTS:[-0.01732076 -0.0147262  -0.00010239]\n",
      "EPOCH: 4 LOSS: [136.6817241] WEIGHTS:[-0.02319121 -0.01972927 -0.00018291]\n",
      "EPOCH: 5 LOSS: [136.12313802] WEIGHTS:[-0.02911082 -0.0247803  -0.00028715]\n",
      "EPOCH: 6 LOSS: [135.56501996] WEIGHTS:[-0.03508003 -0.02987978 -0.00041544]\n",
      "EPOCH: 7 LOSS: [135.00748273] WEIGHTS:[-0.04109926 -0.03502819 -0.00056808]\n",
      "EPOCH: 8 LOSS: [134.45064227] WEIGHTS:[-0.04716895 -0.04022601 -0.0007454 ]\n",
      "EPOCH: 9 LOSS: [133.89461765] WEIGHTS:[-0.05328952 -0.0454737  -0.00094772]\n",
      "EPOCH: 10 LOSS: [133.33953109] WEIGHTS:[-0.05946139 -0.05077175 -0.00117535]\n",
      "EPOCH: 11 LOSS: [132.7855079] WEIGHTS:[-0.06568498 -0.05612062 -0.00142862]\n",
      "EPOCH: 12 LOSS: [132.23267652] WEIGHTS:[-0.0719607  -0.06152078 -0.00170783]\n",
      "EPOCH: 13 LOSS: [131.68116848] WEIGHTS:[-0.07828895 -0.06697268 -0.00201331]\n",
      "EPOCH: 14 LOSS: [131.13111836] WEIGHTS:[-0.08467013 -0.07247678 -0.00234536]\n",
      "EPOCH: 15 LOSS: [130.58266379] WEIGHTS:[-0.09110463 -0.07803353 -0.00270431]\n",
      "EPOCH: 16 LOSS: [130.0359454] WEIGHTS:[-0.09759285 -0.08364337 -0.00309046]\n",
      "EPOCH: 17 LOSS: [129.49110675] WEIGHTS:[-0.10413515 -0.08930675 -0.00350412]\n",
      "EPOCH: 18 LOSS: [128.94829432] WEIGHTS:[-0.11073191 -0.0950241  -0.00394561]\n",
      "EPOCH: 19 LOSS: [128.4076574] WEIGHTS:[-0.11738349 -0.10079584 -0.00441521]\n",
      "EPOCH: 20 LOSS: [127.86934806] WEIGHTS:[-0.12409025 -0.10662239 -0.00491324]\n",
      "EPOCH: 21 LOSS: [127.33352108] WEIGHTS:[-0.13085252 -0.11250415 -0.00543999]\n",
      "EPOCH: 22 LOSS: [126.80033381] WEIGHTS:[-0.13767064 -0.11844153 -0.00599575]\n",
      "EPOCH: 23 LOSS: [126.26994614] WEIGHTS:[-0.14454493 -0.12443492 -0.00658083]\n",
      "EPOCH: 24 LOSS: [125.74252036] WEIGHTS:[-0.15147571 -0.1304847  -0.00719549]\n",
      "EPOCH: 25 LOSS: [125.21822108] WEIGHTS:[-0.15846327 -0.13659125 -0.00784003]\n",
      "EPOCH: 26 LOSS: [124.69721508] WEIGHTS:[-0.16550791 -0.14275491 -0.00851472]\n",
      "TRAINING FINISHED\n",
      "FINAL WEIGHTS: [-0.16550791 -0.14275491 -0.00851472]\n"
     ]
    }
   ],
   "source": [
    "B = train(X,Y)"
   ]
  },
  {
   "cell_type": "code",
   "execution_count": 45,
   "metadata": {},
   "outputs": [],
   "source": [
    "X = np.hstack((X, np.ones((X.shape[0], 1), dtype=X.dtype)))\n",
    "prex = np.empty(shape = 200)\n",
    "for i in range(X.shape[0]):\n",
    "    x = X[i,:]\n",
    "    prex[i] = 1/(1 + np.exp(-(B@x.T)))"
   ]
  },
  {
   "cell_type": "code",
   "execution_count": 46,
   "metadata": {},
   "outputs": [
    {
     "data": {
      "image/png": "[encoded data removed]",
      "text/plain": [
       "<Figure size 640x480 with 1 Axes>"
      ]
     },
     "metadata": {},
     "output_type": "display_data"
    }
   ],
   "source": [
    "make_ROC(prex,Y)"
   ]
  },
  {
   "cell_type": "code",
   "execution_count": 47,
   "metadata": {},
   "outputs": [
    {
     "data": {
      "text/plain": [
       "(142, 58)"
      ]
     },
     "execution_count": 47,
     "metadata": {},
     "output_type": "execute_result"
    }
   ],
   "source": [
    "give_result(prex,Y,0.5)"
   ]
  },
  {
   "cell_type": "code",
   "execution_count": 48,
   "metadata": {},
   "outputs": [
    {
     "name": "stdout",
     "output_type": "stream",
     "text": [
      "EPOCH: 1 LOSS: [138.5771888] WEIGHTS:[-1.91323873e-03 -2.89322803e-03 -9.03544437e-07]\n",
      "EPOCH: 2 LOSS: [138.45741812] WEIGHTS:[-3.83886068e-03 -5.80266082e-03 -7.44024029e-06]\n",
      "EPOCH: 3 LOSS: [138.33765956] WEIGHTS:[-5.77695314e-03 -8.72839464e-03 -1.96725195e-05]\n",
      "EPOCH: 4 LOSS: [138.21792229] WEIGHTS:[-7.72760379e-03 -1.16705260e-02 -3.76632342e-05]\n",
      "EPOCH: 5 LOSS: [138.09821568] WEIGHTS:[-9.69090072e-03 -1.46291516e-02 -6.14756546e-05]\n",
      "EPOCH: 6 LOSS: [137.97854929] WEIGHTS:[-1.16669324e-02 -1.76043683e-02 -9.11734659e-05]\n",
      "EPOCH: 7 LOSS: [137.85893284] WEIGHTS:[-0.01365579 -0.02059627 -0.00012682]\n",
      "EPOCH: 8 LOSS: [137.73937628] WEIGHTS:[-0.01565756 -0.02360496 -0.00016848]\n",
      "EPOCH: 9 LOSS: [137.6198897] WEIGHTS:[-0.01767233 -0.02663054 -0.00021622]\n",
      "EPOCH: 10 LOSS: [137.50048344] WEIGHTS:[-0.01970019 -0.02967309 -0.00027011]\n",
      "EPOCH: 11 LOSS: [137.38116799] WEIGHTS:[-0.02174124 -0.03273273 -0.0003302 ]\n",
      "EPOCH: 12 LOSS: [137.26195405] WEIGHTS:[-0.02379556 -0.03580954 -0.00039657]\n",
      "EPOCH: 13 LOSS: [137.14285254] WEIGHTS:[-0.02586324 -0.03890362 -0.00046928]\n",
      "EPOCH: 14 LOSS: [137.02387455] WEIGHTS:[-0.02794438 -0.04201508 -0.00054841]\n",
      "EPOCH: 15 LOSS: [136.90503138] WEIGHTS:[-0.03003907 -0.045144   -0.00063401]\n",
      "EPOCH: 16 LOSS: [136.78633456] WEIGHTS:[-0.0321474  -0.0482905  -0.00072615]\n",
      "EPOCH: 17 LOSS: [136.6677958] WEIGHTS:[-0.03426946 -0.05145466 -0.00082491]\n",
      "EPOCH: 18 LOSS: [136.54942703] WEIGHTS:[-0.03640534 -0.05463659 -0.00093034]\n",
      "EPOCH: 19 LOSS: [136.43124039] WEIGHTS:[-0.03855514 -0.05783639 -0.00104253]\n",
      "EPOCH: 20 LOSS: [136.31324822] WEIGHTS:[-0.04071895 -0.06105414 -0.00116153]\n",
      "EPOCH: 21 LOSS: [136.1954631] WEIGHTS:[-0.04289687 -0.06428996 -0.00128743]\n",
      "EPOCH: 22 LOSS: [136.0778978] WEIGHTS:[-0.04508899 -0.06754394 -0.00142028]\n",
      "EPOCH: 23 LOSS: [135.96056532] WEIGHTS:[-0.04729539 -0.07081617 -0.00156016]\n",
      "EPOCH: 24 LOSS: [135.84347887] WEIGHTS:[-0.04951619 -0.07410676 -0.00170713]\n",
      "EPOCH: 25 LOSS: [135.7266519] WEIGHTS:[-0.05175146 -0.0774158  -0.00186128]\n",
      "EPOCH: 26 LOSS: [135.61009806] WEIGHTS:[-0.05400131 -0.0807434  -0.00202267]\n",
      "TRAINING FINISHED\n",
      "FINAL WEIGHTS: [-0.05400131 -0.0807434  -0.00202267]\n"
     ]
    }
   ],
   "source": [
    "m1 = multivariate_normal([0,0],[[1,0],[0,1]])\n",
    "m2 = multivariate_normal([0.5,0.5],[[1,0],[0,1]])\n",
    "X1 = m1.rvs(100)\n",
    "X2 = m2.rvs(100)\n",
    "X = np.vstack((X1,X2))\n",
    "Y1 = np.array([[1] * 100]).T\n",
    "Y2 = np.array([[-1] * 100]).T\n",
    "Y = np.vstack((Y1,Y2))\n",
    "X,Y = unison_shuffled_copies(X,Y)\n",
    "B = train(X,Y)\n",
    "X = np.hstack((X, np.ones((X.shape[0], 1), dtype=X.dtype)))\n",
    "prex = np.empty(shape = 200)\n",
    "for i in range(X.shape[0]):\n",
    "    x = X[i,:]\n",
    "    prex[i] = 1/(1 + np.exp(-(B@x.T)))"
   ]
  },
  {
   "cell_type": "code",
   "execution_count": 49,
   "metadata": {},
   "outputs": [
    {
     "data": {
      "image/png": "[encoded data removed]",
      "text/plain": [
       "<Figure size 640x480 with 1 Axes>"
      ]
     },
     "metadata": {},
     "output_type": "display_data"
    }
   ],
   "source": [
    "make_ROC(prex,Y)"
   ]
  },
  {
   "cell_type": "code",
   "execution_count": 50,
   "metadata": {},
   "outputs": [
    {
     "data": {
      "text/plain": [
       "(126, 74)"
      ]
     },
     "execution_count": 50,
     "metadata": {},
     "output_type": "execute_result"
    }
   ],
   "source": [
    "give_result(prex,Y,0.5)"
   ]
  }
 ],
 "metadata": {
  "kernelspec": {
   "display_name": "AV",
   "language": "python",
   "name": "python3"
  },
  "language_info": {
   "codemirror_mode": {
    "name": "ipython",
    "version": 3
   },
   "file_extension": ".py",
   "mimetype": "text/x-python",
   "name": "python",
   "nbconvert_exporter": "python",
   "pygments_lexer": "ipython3",
   "version": "3.10.13"
  }
 },
 "nbformat": 4,
 "nbformat_minor": 2
}
